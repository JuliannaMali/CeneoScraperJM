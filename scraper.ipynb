{
 "cells": [
  {
   "attachments": {},
   "cell_type": "markdown",
   "metadata": {},
   "source": [
    "# Ceneo Scraper"
   ]
  },
  {
   "attachments": {},
   "cell_type": "markdown",
   "metadata": {},
   "source": [
    "## Struktura pojedynczej opinii\n",
    "\n",
    "|Składowa|Selektor|Zmienna|\n",
    "|--------|--------|-------|\n",
    "|id opinii|[\"data-entry-id\"]|opinion_id|\n",
    "|autor|span.user-post__author-name|author|\n",
    "|rekomendacja|span.user-post__author-recomendation|recommendation|\n",
    "|gwiazdki |span.user-post__score-count|rating|\n",
    "|treść|div.user-post__text|content|\n",
    "|lista zalet|div.review-feature__title--positives ~ div.review-feature__item|pros|\n",
    "|lista wad|div.review-feature__title--negatives ~ div.review-feature__item|cons|\n",
    "|dla ilu przydatna|span.['id^=votes-yes']|useful|\n",
    "|dla ilu nieprzydatna|span.['id^=votes-no']|useless|\n",
    "|data wystawienia|span.user-post__published > time:nth-child(1)['datetime']|post_date|\n",
    "|data zakupu|span.user-post__published > time:nth-child(2)['datetime']|purchase_date|"
   ]
  },
  {
   "attachments": {},
   "cell_type": "markdown",
   "metadata": {},
   "source": [
    "## Kod"
   ]
  },
  {
   "attachments": {},
   "cell_type": "markdown",
   "metadata": {},
   "source": [
    "### Biblioteki"
   ]
  },
  {
   "cell_type": "code",
   "execution_count": 1,
   "metadata": {},
   "outputs": [],
   "source": [
    "#najpierw ogólnodostępne biblioteki, potem instalowane pipem, potem nasze własne moduły\n",
    "\n",
    "import os\n",
    "\n",
    "import json\n",
    "\n",
    "import requests\n",
    "\n",
    "from   bs4 import BeautifulSoup"
   ]
  },
  {
   "attachments": {},
   "cell_type": "markdown",
   "metadata": {},
   "source": [
    "### Funkcje do  ekstrakcji danych ze strony html"
   ]
  },
  {
   "cell_type": "code",
   "execution_count": 10,
   "metadata": {},
   "outputs": [],
   "source": [
    "def extract(ancestor, selector=None, attribute=None, returns_list=False):\n",
    "    if selector:\n",
    "    \n",
    "        if returns_list:\n",
    "            if attribute:\n",
    "                return [tag[attribute]().strip() for tag in ancestor.select(selector)] \n",
    "            else:\n",
    "                return [tag.get_text().strip() for tag in ancestor.select(selector)] \n",
    "\n",
    "        if attribute:\n",
    "            try:\n",
    "                return ancestor.select_one(selector)[attribute].strip()\n",
    "            except TypeError:\n",
    "                return None\n",
    "\n",
    "        try:\n",
    "            return ancestor.select_one(selector).get_text().strip()\n",
    "        except AttributeError:\n",
    "            return None\n",
    "\n",
    "    if attribute:\n",
    "        return ancestor[attribute].strip()\n",
    "\n",
    "    return ancestor.get_text().strip()"
   ]
  },
  {
   "attachments": {},
   "cell_type": "markdown",
   "metadata": {},
   "source": [
    "### Słownik reprezentujący  strukturę opinii"
   ]
  },
  {
   "cell_type": "code",
   "execution_count": 12,
   "metadata": {},
   "outputs": [],
   "source": [
    "selectors = {\n",
    "    'opinion_id'        : (None, 'data-entry-id'),\n",
    "    'author'            : ('span.user-post__author-name',),\n",
    "    'recommendation'    : ('span.user-post__author-recomendation',),\n",
    "    'rating'            : ('span.user-post__score-count',),\n",
    "    'content'           : ('div.user-post__text',),\n",
    "    'pros'              : ('div.review-feature__title--positives ~ div.review-feature__item', None, True),\n",
    "    'cons'              : ('div.review-feature__title--negatives ~ div.review-feature__item', None, True),\n",
    "    'useful'            : (\"[id^='votes-yes']\",),\n",
    "    'useless'           : (\"[id^='votes-no']\",),\n",
    "    'post_date'         : (\".user-post__published > time:nth-child(1)\", \"datetime\"),\n",
    "    'purchase_date'     : (\".user-post__published > time:nth-child(2)\", \"datetime\")\n",
    "}"
   ]
  },
  {
   "attachments": {},
   "cell_type": "markdown",
   "metadata": {},
   "source": [
    "### Link do pierwszej strony z  opiniami o wskazanym produkcie"
   ]
  },
  {
   "cell_type": "code",
   "execution_count": 11,
   "metadata": {},
   "outputs": [],
   "source": [
    "#114700014\n",
    "\n",
    "product_id  = input('Proszę podać kod produktu z serwisu Ceneo.pl: ')\n",
    "\n",
    "url         = f'https://www.ceneo.pl/{product_id}/opinie-1'"
   ]
  },
  {
   "attachments": {},
   "cell_type": "markdown",
   "metadata": {},
   "source": [
    "### Pobranie opinii"
   ]
  },
  {
   "cell_type": "code",
   "execution_count": 13,
   "metadata": {},
   "outputs": [],
   "source": [
    "all_opinions    = []\n",
    "while (url):\n",
    "\n",
    "    response    = requests.get(url)\n",
    "    page_dom    = BeautifulSoup(response.text, 'html.parser')\n",
    "    opinions    = page_dom.select('div.js_product-review')\n",
    "\n",
    "    for opinion in opinions:\n",
    "            single_opinion = {\n",
    "\n",
    "                key : extract(opinion, *value)\n",
    "                    for key, value in selectors.items()\n",
    "\n",
    "            }\n",
    "            \n",
    "            all_opinions.append(single_opinion) \n",
    "\n",
    "    try:\n",
    "        url = 'https://www.ceneo.pl/'+extract(page_dom, 'a.pagination__next', 'href')\n",
    "    except TypeError:\n",
    "         url = None\n"
   ]
  },
  {
   "attachments": {},
   "cell_type": "markdown",
   "metadata": {},
   "source": [
    "### Zapis opinii do pliku"
   ]
  },
  {
   "cell_type": "code",
   "execution_count": 14,
   "metadata": {},
   "outputs": [],
   "source": [
    "if not os.path.exists('opinions'):\n",
    "    os.mkdir('opinions')\n",
    "\n",
    "with open(f'opinions/{product_id}.json', 'w', encoding='UTF-8') as jsonfile:\n",
    "    \n",
    "    json.dump(all_opinions, jsonfile, indent=4, ensure_ascii=False)"
   ]
  }
 ],
 "metadata": {
  "kernelspec": {
   "display_name": ".venv",
   "language": "python",
   "name": "python3"
  },
  "language_info": {
   "codemirror_mode": {
    "name": "ipython",
    "version": 3
   },
   "file_extension": ".py",
   "mimetype": "text/x-python",
   "name": "python",
   "nbconvert_exporter": "python",
   "pygments_lexer": "ipython3",
   "version": "3.11.4"
  },
  "orig_nbformat": 4
 },
 "nbformat": 4,
 "nbformat_minor": 2
}
