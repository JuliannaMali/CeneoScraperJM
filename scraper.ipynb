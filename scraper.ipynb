{
 "cells": [
  {
   "attachments": {},
   "cell_type": "markdown",
   "metadata": {},
   "source": [
    "# Ceneo Scraper"
   ]
  },
  {
   "attachments": {},
   "cell_type": "markdown",
   "metadata": {},
   "source": [
    "## Biblioteki"
   ]
  },
  {
   "cell_type": "code",
   "execution_count": 41,
   "metadata": {},
   "outputs": [],
   "source": [
    "#najpierw ogólnodostępne biblioteki, potem instalowane pipem, potem nasze własne moduły\n",
    "\n",
    "import os\n",
    "\n",
    "import json\n",
    "\n",
    "import requests\n",
    "\n",
    "from bs4 import BeautifulSoup"
   ]
  },
  {
   "attachments": {},
   "cell_type": "markdown",
   "metadata": {},
   "source": [
    "## Wysłanie żądania dostępu do zasobu servera"
   ]
  },
  {
   "attachments": {},
   "cell_type": "markdown",
   "metadata": {},
   "source": [
    "## Struktura pojedynczej opinii\n",
    "\n",
    "|Składowa|Selektor|Zmienna|\n",
    "|--------|--------|-------|\n",
    "|id opinii|[\"data-entry-id\"]|opinion_id|\n",
    "|autor|span.user-post__author-name|author|\n",
    "|rekomendacja|span.user-post__author-recomendation|recommendation|\n",
    "|gwiazdki |span.user-post__score-count|rating|\n",
    "|treść|div.user-post__text|content|\n",
    "|lista zalet|div.review-feature__title--positives ~ div.review-feature__item|pros|\n",
    "|lista wad|div.review-feature__title--negatives ~ div.review-feature__item|cons|\n",
    "|dla ilu przydatna|span.['id^=votes-yes']|useful|\n",
    "|dla ilu nieprzydatna|span.['id^=votes-no']|useless|\n",
    "|data wystawienia|span.user-post__published > time:nth-child(1)['datetime']|post_date|\n",
    "|data zakupu|span.user-post__published > time:nth-child(2)['datetime']|purchase_date|"
   ]
  },
  {
   "cell_type": "code",
   "execution_count": 46,
   "metadata": {},
   "outputs": [],
   "source": [
    "product_id  = '114700014'\n",
    "\n",
    "url         = f'https://www.ceneo.pl/{product_id}/opinie-1'"
   ]
  },
  {
   "cell_type": "code",
   "execution_count": 47,
   "metadata": {},
   "outputs": [],
   "source": [
    "all_opinions    = []\n",
    "while (url):\n",
    "\n",
    "    response    = requests.get(url)\n",
    "    page_dom    = BeautifulSoup(response.text, 'html.parser')\n",
    "    opinions    = page_dom.select('div.js_product-review')\n",
    "\n",
    "    for opinion in opinions:\n",
    "        try:\n",
    "            single_opinion = {\n",
    "                'opinion_id' : opinion['data-entry-id'],\n",
    "\n",
    "                'author' : opinion.select_one('span.user-post__author-name').get_text().strip(),\n",
    "\n",
    "                'recommendation' : opinion.select_one('span.user-post__author-recomendation').get_text().strip(),\n",
    "\n",
    "                'rating' : opinion.select_one('span.user-post__score-count').get_text().strip(),\n",
    "\n",
    "                'content' : opinion.select_one('div.user-post__text').get_text().strip(),\n",
    "\n",
    "                'pros' : [p.get_text().strip() for p in opinion.select('div.review-feature__title--positives ~ div.review-feature__item')],\n",
    "                'cons' : [c.get_text().strip() for c in opinion.select('div.review-feature__title--negatives ~ div.review-feature__item')],\n",
    "\n",
    "                'useful' : opinion.select_one(\"[id^='votes-yes']\").get_text().strip(),\n",
    "                'useless' : opinion.select_one(\"[id^='votes-no']\").get_text().strip(),\n",
    "\n",
    "                'post_date' : opinion.select_one(\".user-post__published > time:nth-child(1)\").get(\"datetime\").strip(),\n",
    "\n",
    "                'purchase_date' : opinion.select_one(\".user-post__published > time:nth-child(2)\").get(\"datetime\").strip()\n",
    "            }\n",
    "            all_opinions.append(single_opinion)   \n",
    "        \n",
    "        except (AttributeError,TypeError):\n",
    "            pass\n",
    "\n",
    "    try:\n",
    "        url = 'https://www.ceneo.pl/'+page_dom.select_one('a.pagination__next')['href']\n",
    "    except TypeError:\n",
    "         url = None\n"
   ]
  },
  {
   "cell_type": "code",
   "execution_count": 48,
   "metadata": {},
   "outputs": [],
   "source": [
    "if not os.path.exists('opinions'):\n",
    "    os.mkdir('opinions')\n",
    "\n",
    "with open(f'opinions/{product_id}.json', 'w', encoding='UTF-8') as jsonfile:\n",
    "    \n",
    "    json.dump(all_opinions, jsonfile, indent=4, ensure_ascii=False)"
   ]
  }
 ],
 "metadata": {
  "kernelspec": {
   "display_name": ".venv",
   "language": "python",
   "name": "python3"
  },
  "language_info": {
   "codemirror_mode": {
    "name": "ipython",
    "version": 3
   },
   "file_extension": ".py",
   "mimetype": "text/x-python",
   "name": "python",
   "nbconvert_exporter": "python",
   "pygments_lexer": "ipython3",
   "version": "3.12.0"
  },
  "orig_nbformat": 4
 },
 "nbformat": 4,
 "nbformat_minor": 2
}
